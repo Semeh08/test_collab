{
  "nbformat": 4,
  "nbformat_minor": 0,
  "metadata": {
    "colab": {
      "provenance": [],
      "authorship_tag": "ABX9TyPWwpEyLWLB7bwwGeX7aE2o",
      "include_colab_link": true
    },
    "kernelspec": {
      "name": "python3",
      "display_name": "Python 3"
    },
    "language_info": {
      "name": "python"
    }
  },
  "cells": [
    {
      "cell_type": "markdown",
      "metadata": {
        "id": "view-in-github",
        "colab_type": "text"
      },
      "source": [
        "<a href=\"https://colab.research.google.com/github/Semeh08/test_collab/blob/main/intro.ipynb\" target=\"_parent\"><img src=\"https://colab.research.google.com/assets/colab-badge.svg\" alt=\"Open In Colab\"/></a>"
      ]
    },
    {
      "cell_type": "code",
      "execution_count": 4,
      "metadata": {
        "id": "UlMrL8RpSMnB"
      },
      "outputs": [],
      "source": [
        "def generate_password():\n",
        "    while True:\n",
        "        password = \"\".join(\n",
        "            random.choices(\n",
        "                string.ascii_letters\n",
        "                + string.digits\n",
        "                + string.punctuation,\n",
        "                k=12,\n",
        "            )\n",
        "        )\n",
        "        if (\n",
        "            any(c.islower() for c in password)\n",
        "            and any(c.isupper() for c in password)\n",
        "            and any(c.isdigit() for c in password)\n",
        "            and any(c in string.punctuation for c in password)\n",
        "        ):\n",
        "            return password"
      ]
    },
    {
      "cell_type": "code",
      "source": [
        "import unittest\n",
        "\n",
        "\n",
        "\n",
        "class TestFibonacci(unittest.TestCase):\n",
        "    def test_fibonacci(self):\n",
        "        self.assertEqual(fibonacci(0), [0])\n",
        "        self.assertEqual(fibonacci(1), [0, 1])\n",
        "        self.assertEqual(fibonacci(2), [0, 1, 1])\n",
        "        self.assertEqual(fibonacci(3), [0, 1, 1, 2])\n",
        "        self.assertEqual(fibonacci(5), [0, 1, 1, 2, 3, 5])\n",
        "        self.assertEqual(fibonacci(7), [0, 1, 1, 2, 3, 5, 8, 13])\n"
      ],
      "metadata": {
        "id": "Xd83ijYvVu2T"
      },
      "execution_count": 5,
      "outputs": []
    }
  ]
}